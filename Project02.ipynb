{
 "cells": [
  {
   "cell_type": "markdown",
   "id": "245918b3-be3c-4d1f-9a58-7f2a88d01183",
   "metadata": {},
   "source": [
    "# Project 2\n",
    "### CS 5/7394 - Applied Machine Learning\n",
    "\n",
    "- **Due** - March 11 @ 11:59 pm pushed to Github repo\n",
    "- **Teams** - You can do this project solo or in pairs.  Not 3, not 4 not 5... Max of 2. If a 5394 student pairs with a 7394 student, the pair needs to do the 7394 work. "
   ]
  },
  {
   "cell_type": "markdown",
   "id": "cae9b08f-7745-4dfb-8927-258f22423720",
   "metadata": {},
   "source": [
    "Below are 6 Kaggle Datasets.  You will choose 1 to work with for this project. \n",
    "\n",
    "- [Airfare Prediction Dataset](https://www.kaggle.com/zwartfreak/airline-fare-prediction)\n",
    "- [Chinese Rest Holiday Dataset](https://www.kaggle.com/holoong9291/chinese-rest-holiday-dataset-2020-to-2022)\n",
    "- [Jigsaw Toxic Comment Classification Challenge](https://www.kaggle.com/julian3833/jigsaw-toxic-comment-classification-challenge?select=train.csv)\n",
    "- [Latest Covid 19 Dataset Worldwide](https://www.kaggle.com/sandhyakrishnan02/latest-covid-19-dataset-worldwide)\n",
    "- [Trains](https://www.kaggle.com/vahidehdashti/machinelearningdatabase-trains?select=trains-original.data)\n",
    "- [Football Data top 5 Leagues](https://www.kaggle.com/sanjeetsinghnaik/football-data-top-5-leagues)\n",
    "\n",
    "Merging disparate datasets is a staple of the data exploration process.  Therefore, for which ever data set above that you choose, you will need to independently find **an additional** dataset to merge with your selection.  The only requirement is that it add to the richness of the original dataset. Students in the 7000-level version of the class need to find two additional data sets to merge with the original selection. \n",
    "\n",
    "_Note_: If you want to start with a different data set, you need to get Fontenot's OK first.  "
   ]
  },
  {
   "cell_type": "markdown",
   "id": "126330db-b29f-46d9-b16e-7811612a9e73",
   "metadata": {},
   "source": [
    "### Your Tasks\n",
    "\n",
    "Below, there are cells that provide directions on what to do for the project.  \n",
    "\n",
    "You can insert as many cells between the ones below as you'd like, but please **Do NOT** change the cells already provided. "
   ]
  },
  {
   "cell_type": "markdown",
   "id": "0f2ca87f-07eb-4792-b76e-15f2f01d1408",
   "metadata": {},
   "source": [
    "### Part 1 - Getting Started\n",
    "\n",
    "- Import libraries\n",
    "- Load original Data (which ever one you chose from the provided list) into a data frame. \n",
    "- Load your additional data set(s) into a data frame. \n",
    "- In a markdown cell, provide a brief description of your the data sets you've chosen to work with.  \n",
    "- Develop a list of 3 - 4 questions that you hope to be able to answer after the exploration of the data and write them in this section. "
   ]
  },
  {
   "cell_type": "code",
   "execution_count": 38,
   "id": "ef9b70f5-346e-47af-9d38-043de6663c0c",
   "metadata": {
    "tags": []
   },
   "outputs": [],
   "source": [
    "import numpy as np\n",
    "import pandas as pd\n",
    "%matplotlib inline\n",
    "\n",
    "import scipy.stats as stats\n",
    "from sklearn import metrics\n",
    "from sklearn import preprocessing\n",
    "from sklearn import  linear_model\n",
    "from sklearn.model_selection import cross_val_score\n",
    "from sklearn.model_selection import train_test_split\n",
    "from sklearn.model_selection import cross_val_predict\n",
    "\n",
    "import matplotlib.pyplot as plt\n",
    "import seaborn as sn\n",
    "\n",
    "params = {'legend.fontsize': 'x-large',\n",
    "          'figure.figsize': (30, 10),\n",
    "          'axes.labelsize': 'x-large',\n",
    "          'axes.titlesize':'x-large',\n",
    "          'xtick.labelsize':'x-large',\n",
    "          'ytick.labelsize':'x-large'}\n",
    "\n",
    "sn.set_style('whitegrid')\n",
    "sn.set_context('talk')\n",
    "\n",
    "plt.rcParams.update(params)\n",
    "pd.options.display.max_colwidth = 600\n",
    "\n",
    "\n",
    "\n",
    "\n",
    "\n",
    "#Todo\n",
    "# Steps 3 and 4\n",
    "\n"
   ]
  },
  {
   "cell_type": "markdown",
   "id": "feefe021-1301-4cbf-8331-76c098bc556b",
   "metadata": {},
   "source": [
    "### Read and Clean Datasets "
   ]
  },
  {
   "cell_type": "code",
   "execution_count": 45,
   "id": "dee3fd8d-27b5-47a1-a500-b66153fca21e",
   "metadata": {},
   "outputs": [],
   "source": [
    "airfare = pd.read_csv('airfareTrain.csv')\n",
    "holidays = pd.read_csv('holidays2019.csv')\n",
    "dieselPrices = pd.read_csv('diesel.csv')\n",
    "\n",
    "#Standardiszing Attribute Names\n",
    "airfare.rename(columns={'Airline':'airline',\n",
    "                            'Date_of_Journey':'date',\n",
    "                            'Source':'starting_city',\n",
    "                            'Destination':'destination',\n",
    "                            'Route':'route',\n",
    "                            'Dep_Time':'depart_time',\n",
    "                            'Arrival_Time':'arrival_time',\n",
    "                            'Duration':'duration',\n",
    "                            'Total_Stops':'total_stops',\n",
    "                            'Additional Info':'misc',\n",
    "                            'Price':'price'},inplace=True)\n",
    "\n",
    "\n",
    "airfare = airfare.drop(['route','depart_time', 'arrival_time','misc'], axis=1)\n",
    "\n",
    "airfare['total_stops'].replace(['non-stop', '1 stop', '2 stops', '3 stops', '4 stops', '5 stops'], [0, 1, 2, 3, 4, 5], inplace=True)\n",
    "\n",
    "#Typecasting Attributes\n",
    "    #AirFare\n",
    "airfare['date']     = pd.to_datetime(airfare.date)\n",
    "airfare['duration'] = pd.to_timedelta(airfare.duration).astype('timedelta64[h]')\n",
    "airfare['duration'] = pd.to_numeric(airfare.duration)\n",
    "airfare['price']    = pd.to_numeric(airfare.price)\n",
    "#airfare['total_stops'] = pd.to_numeric(airfare.total_stops)\n",
    "\n",
    "airfare['airline'] = airfare.airline.astype('category')\n",
    "airfare['starting_city'] = airfare.starting_city.astype('category')\n",
    "airfare['destination'] = airfare.destination.astype('category')\n",
    "\n",
    "\n",
    "    #Diesel\n",
    "dieselPrices['date'] =  pd.to_datetime(dieselPrices.date)\n",
    "    \n",
    "    #Holidays\n",
    "holidays = holidays.drop(['day'], axis=1)\t\n",
    "holidays['date']    = pd.to_datetime(holidays.date)\n",
    "holidays['holiday_type'].replace(['Gazetted','Restricted'], [0, 1], inplace=True)\n"
   ]
  },
  {
   "cell_type": "markdown",
   "id": "7dc8b1e5-3e29-4da6-8d36-0e7cf48a3e59",
   "metadata": {},
   "source": [
    "### Part 2 - Data Inspection\n",
    "\n",
    "Write some code to summarize the datasets.  Think about the following questions:\n",
    "- What type of data is each variable? (think like a data scientist here, not a computer scientist)\n",
    "- What is the total size of the data sets?\n",
    "- What time boundaries are there in the dataset?  IOW, what time frame do they span?\n",
    "- Are there any missing values in any of the variables? \n",
    "\n",
    "Do this with Intentionality.  Don't skimp. "
   ]
  },
  {
   "cell_type": "markdown",
   "id": "3d26f351-4f77-4261-bc18-adbed54b8552",
   "metadata": {},
   "source": [
    "### What type of data is each variable?"
   ]
  },
  {
   "cell_type": "code",
   "execution_count": 46,
   "id": "24170465-36ab-4d9a-b2b9-f79927119d89",
   "metadata": {},
   "outputs": [
    {
     "name": "stdout",
     "output_type": "stream",
     "text": [
      "=Airfare Types=\n",
      " airline                category\n",
      "date             datetime64[ns]\n",
      "starting_city          category\n",
      "destination            category\n",
      "duration                float64\n",
      "total_stops             float64\n",
      "price                     int64\n",
      "dtype: object \n",
      "\n",
      "=Diesel Types=\n",
      " city             object\n",
      "date     datetime64[ns]\n",
      "rate            float64\n",
      "state            object\n",
      "dtype: object \n",
      "\n",
      "=Holiday Types=\n",
      " date            datetime64[ns]\n",
      "holiday                 object\n",
      "holiday_type             int64\n",
      "dtype: object\n"
     ]
    }
   ],
   "source": [
    "print(\"=Airfare Types=\\n\",airfare.dtypes,\"\\n\")\n",
    "print(\"=Diesel Types=\\n\",dieselPrices.dtypes,\"\\n\")\n",
    "print(\"=Holiday Types=\\n\",holidays.dtypes)"
   ]
  },
  {
   "cell_type": "markdown",
   "id": "11d9ee9e-231c-4909-8dfa-8e0801e72302",
   "metadata": {},
   "source": [
    "### What is the total size of the data sets?"
   ]
  },
  {
   "cell_type": "code",
   "execution_count": 62,
   "id": "e41d462f-7845-47a4-afac-ff4fceecfb1d",
   "metadata": {},
   "outputs": [
    {
     "name": "stdout",
     "output_type": "stream",
     "text": [
      "Shape of Airfare:   (10683, 7)\n",
      "Shape of Diesel Prices:  (4104, 4)\n",
      "Shape of Holidays:  (46, 3)\n"
     ]
    }
   ],
   "source": [
    "print(\"Shape of Airfare:  \", airfare.shape)\n",
    "print(\"Shape of Diesel Prices: \",dieselPrices.shape)\n",
    "print(\"Shape of Holidays: \",holidays.shape)"
   ]
  },
  {
   "cell_type": "markdown",
   "id": "fb8deff9-7d1a-424f-a2b6-ca86a9ace1db",
   "metadata": {},
   "source": [
    "### What time boundaries are there in the dataset?  IOW, what time frame do they span?"
   ]
  },
  {
   "cell_type": "code",
   "execution_count": 63,
   "id": "a7cb299f-bb03-47cc-8b81-5fafed58cc0b",
   "metadata": {},
   "outputs": [
    {
     "name": "stdout",
     "output_type": "stream",
     "text": [
      "Airfare start date:  2019-01-03 00:00:00\n",
      "Airfare end date:    2019-12-06 00:00:00 \n",
      "\n",
      "DatetimeIndex(['2019-01-03', '2019-01-04', '2019-01-05', '2019-01-06',\n",
      "               '2019-01-07', '2019-01-08', '2019-01-09', '2019-01-10',\n",
      "               '2019-01-11', '2019-01-12',\n",
      "               ...\n",
      "               '2019-11-27', '2019-11-28', '2019-11-29', '2019-11-30',\n",
      "               '2019-12-01', '2019-12-02', '2019-12-03', '2019-12-04',\n",
      "               '2019-12-05', '2019-12-06'],\n",
      "              dtype='datetime64[ns]', length=338, freq='D')\n",
      "\n",
      "Diesel start date:  2019-01-02 00:00:00\n",
      "Diesel end date:    2019-12-31 00:00:00 \n",
      "\n",
      "DatetimeIndex(['2019-01-02', '2019-01-03', '2019-01-04', '2019-01-05',\n",
      "               '2019-01-06', '2019-01-07', '2019-01-08', '2019-01-09',\n",
      "               '2019-01-10', '2019-01-11',\n",
      "               ...\n",
      "               '2019-12-22', '2019-12-23', '2019-12-24', '2019-12-25',\n",
      "               '2019-12-26', '2019-12-27', '2019-12-28', '2019-12-29',\n",
      "               '2019-12-30', '2019-12-31'],\n",
      "              dtype='datetime64[ns]', length=364, freq='D')\n"
     ]
    }
   ],
   "source": [
    "print(\"Airfare start date: \",airfare['date'].min())\n",
    "print(\"Airfare end date:   \",airfare['date'].max(),'\\n')\n",
    "print(pd.date_range(start=airfare['date'].min(), end=airfare['date'].max()))\n",
    "\n",
    "print(\"\\nDiesel start date: \",dieselPrices['date'].min())\n",
    "print(\"Diesel end date:   \",dieselPrices['date'].max(),'\\n')\n",
    "print(pd.date_range(start=dieselPrices['date'].min(), end=dieselPrices['date'].max()))"
   ]
  },
  {
   "cell_type": "markdown",
   "id": "d40fd83c-9bac-4f27-813d-7d1dd2dd4231",
   "metadata": {},
   "source": [
    "### Are there any missing values in any of the variables? "
   ]
  },
  {
   "cell_type": "code",
   "execution_count": 64,
   "id": "9933acc6-0503-4eb3-aea0-abbcedeac659",
   "metadata": {},
   "outputs": [
    {
     "name": "stdout",
     "output_type": "stream",
     "text": [
      "=Airline Values=\n",
      "\n",
      "airline:\t\t False \n",
      "date:\t\t\t False \n",
      "starting_city:\t\t False \n",
      "destination:\t\t False \n",
      "duration:\t\t False \n",
      "total_stops:\t\t True\n",
      "\n",
      "=Diesel Values=\n",
      "\n",
      "city:\t\t\t False \n",
      "date:\t\t\t False \n",
      "rate:\t\t\t False \n",
      "state:\t\t\t False\n",
      "\n",
      "=Holday Values=\n",
      "\n",
      "date:\t\t\t False \n",
      "holiday:\t\t False \n",
      "holiday_type:\t\t False\n"
     ]
    }
   ],
   "source": [
    "print(\"=Airline Values=\\n\")\n",
    "airfare[\"total_stops\"].fillna(0)\n",
    "print(\n",
    "    \"airline:\\t\\t\",           airfare.airline.isnull().values.any(),\n",
    "    \"\\ndate:\\t\\t\\t\",          airfare.date.isnull().values.any(),\n",
    "    \"\\nstarting_city:\\t\\t\",   airfare.starting_city.isnull().values.any(),\n",
    "    \"\\ndestination:\\t\\t\",     airfare.destination.isnull().values.any(),\n",
    "    \"\\nduration:\\t\\t\",        airfare.duration.isnull().values.any(),\n",
    "    \"\\ntotal_stops:\\t\\t\",     airfare.total_stops.isnull().values.any()\n",
    ")\n",
    "\n",
    "print(\"\\n=Diesel Values=\\n\")\n",
    "print(\n",
    "    \"city:\\t\\t\\t\",            dieselPrices.city.isnull().values.any(),\n",
    "    \"\\ndate:\\t\\t\\t\",          dieselPrices.date.isnull().values.any(),\n",
    "    \"\\nrate:\\t\\t\\t\",          dieselPrices.rate.isnull().values.any(),\n",
    "    \"\\nstate:\\t\\t\\t\",         dieselPrices.state.isnull().values.any(),\n",
    ")\n",
    "print(\"\\n=Holday Values=\\n\")\n",
    "print(\n",
    "    \"date:\\t\\t\\t\",            holidays.date.isnull().values.any(),\n",
    "    \"\\nholiday:\\t\\t\",       holidays.holiday.isnull().values.any(),\n",
    "    \"\\nholiday_type:\\t\\t\",  holidays.holiday_type.isnull().values.any()\n",
    "\n",
    ")\n"
   ]
  },
  {
   "cell_type": "markdown",
   "id": "f816006c-868c-4863-b0b8-e56e8a1ec8f3",
   "metadata": {
    "tags": []
   },
   "source": [
    "### Part 3 - Data Description\n",
    "\n",
    "- Create a data description (data dictionary) for your data sets.\n",
    "    - Describe each variable\n",
    "    - If categorical, what levels are present? If the levels are encoded, what do the codes mean?\n",
    "    - If numeric, provide min, max, median and any other univariate stats you'd like to add in. \n",
    "- Where appropriate, provide histograms or other visualizations to characterize each variable. "
   ]
  },
  {
   "cell_type": "markdown",
   "id": "2d7b60a2-7a99-4d85-a685-3fc10a2bda9c",
   "metadata": {},
   "source": [
    "## Airline Fare Data Dictionarty\n",
    "\n",
    "- airline        : Name of airline carrier (Air India, IndiGo, Multiple Carriers, etc.)           \n",
    "- starting_city  : Starting city (Delhi, Kolkata, Banglore, etc)                         \n",
    "- destination    : Destination city (Delhi, Kolkata, Banglore, etc.)               \n",
    "- date           : Data         \n",
    "- duration       : Total duration of the flight      \n",
    "- total_stops    : Total amount of layovers in the route\n"
   ]
  },
  {
   "cell_type": "code",
   "execution_count": 67,
   "id": "3ae39d85-202b-4925-86b0-c068c9ccb432",
   "metadata": {},
   "outputs": [
    {
     "data": {
      "text/plain": [
       "airline                category\n",
       "date             datetime64[ns]\n",
       "starting_city          category\n",
       "destination            category\n",
       "duration                float64\n",
       "total_stops             float64\n",
       "price                     int64\n",
       "dtype: object"
      ]
     },
     "execution_count": 67,
     "metadata": {},
     "output_type": "execute_result"
    }
   ],
   "source": [
    "airfare.dtypes"
   ]
  },
  {
   "cell_type": "code",
   "execution_count": 68,
   "id": "6362126a-aaad-410b-88fd-a0e4a1c45e02",
   "metadata": {},
   "outputs": [
    {
     "name": "stdout",
     "output_type": "stream",
     "text": [
      "=Airline values=\n",
      " ['Air Asia', 'Air India', 'GoAir', 'IndiGo', 'Jet Airways', 'Jet Airways Business', 'Multiple carriers', 'Multiple carriers Premium economy', 'SpiceJet', 'Trujet', 'Vistara', 'Vistara Premium economy']\n",
      "\n",
      "=starting_city values=\n",
      " ['Banglore', 'Chennai', 'Delhi', 'Kolkata', 'Mumbai']\n",
      "\n",
      "=destination values=\n",
      " ['Banglore', 'Cochin', 'Delhi', 'Hyderabad', 'Kolkata', 'New Delhi']\n"
     ]
    }
   ],
   "source": [
    "print('=Airline values=\\n',airfare['airline'].cat.categories.tolist())\n",
    "print('\\n=starting_city values=\\n',airfare['starting_city'].cat.categories.tolist())\n",
    "print('\\n=destination values=\\n',airfare['destination'].cat.categories.tolist())"
   ]
  },
  {
   "cell_type": "code",
   "execution_count": 71,
   "id": "2f61efbf-892d-4d0f-9be9-a17788ff2ffe",
   "metadata": {},
   "outputs": [
    {
     "name": "stdout",
     "output_type": "stream",
     "text": [
      "=Date=\n",
      "min:  2019-01-03 00:00:00 \n",
      "max: 2019-12-06 00:00:00 \n",
      "median:  2019-05-24 00:00:00\n",
      "\n",
      "=Duration=\n",
      "min:  0.0 \n",
      "max: 47.0 \n",
      "median:  8.0\n",
      "\n",
      "=Price=\n",
      "min:  1760 \n",
      "max: 79513 \n",
      "median:  8373.0\n"
     ]
    }
   ],
   "source": [
    "print(\"=Date=\\nmin: \", airfare['date'].min() ,'\\nmax:', airfare['date'].max(), '\\nmedian: ', airfare['date'].median())\n",
    "print(\"\\n=Duration=\\nmin: \", airfare['duration'].min() ,'\\nmax:', airfare['duration'].max(), '\\nmedian: ', airfare['duration'].median())\n",
    "print(\"\\n=Price=\\nmin: \", airfare['price'].min() ,'\\nmax:', airfare['price'].max(), '\\nmedian: ', airfare['price'].median())"
   ]
  },
  {
   "cell_type": "code",
   "execution_count": 70,
   "id": "72fe9ab7-a02d-4060-8dd4-0bd7c6c732e1",
   "metadata": {},
   "outputs": [
    {
     "data": {
      "text/html": [
       "<div>\n",
       "<style scoped>\n",
       "    .dataframe tbody tr th:only-of-type {\n",
       "        vertical-align: middle;\n",
       "    }\n",
       "\n",
       "    .dataframe tbody tr th {\n",
       "        vertical-align: top;\n",
       "    }\n",
       "\n",
       "    .dataframe thead th {\n",
       "        text-align: right;\n",
       "    }\n",
       "</style>\n",
       "<table border=\"1\" class=\"dataframe\">\n",
       "  <thead>\n",
       "    <tr style=\"text-align: right;\">\n",
       "      <th></th>\n",
       "      <th>airline</th>\n",
       "      <th>date</th>\n",
       "      <th>starting_city</th>\n",
       "      <th>destination</th>\n",
       "      <th>duration</th>\n",
       "      <th>total_stops</th>\n",
       "      <th>price</th>\n",
       "    </tr>\n",
       "  </thead>\n",
       "  <tbody>\n",
       "    <tr>\n",
       "      <th>0</th>\n",
       "      <td>IndiGo</td>\n",
       "      <td>2019-03-24</td>\n",
       "      <td>Banglore</td>\n",
       "      <td>New Delhi</td>\n",
       "      <td>2.0</td>\n",
       "      <td>0.0</td>\n",
       "      <td>3898</td>\n",
       "    </tr>\n",
       "    <tr>\n",
       "      <th>1</th>\n",
       "      <td>Air India</td>\n",
       "      <td>2019-01-05</td>\n",
       "      <td>Kolkata</td>\n",
       "      <td>Banglore</td>\n",
       "      <td>7.0</td>\n",
       "      <td>2.0</td>\n",
       "      <td>7663</td>\n",
       "    </tr>\n",
       "    <tr>\n",
       "      <th>2</th>\n",
       "      <td>Jet Airways</td>\n",
       "      <td>2019-09-06</td>\n",
       "      <td>Delhi</td>\n",
       "      <td>Cochin</td>\n",
       "      <td>19.0</td>\n",
       "      <td>2.0</td>\n",
       "      <td>13883</td>\n",
       "    </tr>\n",
       "    <tr>\n",
       "      <th>3</th>\n",
       "      <td>IndiGo</td>\n",
       "      <td>2019-12-05</td>\n",
       "      <td>Kolkata</td>\n",
       "      <td>Banglore</td>\n",
       "      <td>5.0</td>\n",
       "      <td>1.0</td>\n",
       "      <td>6219</td>\n",
       "    </tr>\n",
       "    <tr>\n",
       "      <th>4</th>\n",
       "      <td>IndiGo</td>\n",
       "      <td>2019-01-03</td>\n",
       "      <td>Banglore</td>\n",
       "      <td>New Delhi</td>\n",
       "      <td>4.0</td>\n",
       "      <td>1.0</td>\n",
       "      <td>13303</td>\n",
       "    </tr>\n",
       "  </tbody>\n",
       "</table>\n",
       "</div>"
      ],
      "text/plain": [
       "       airline       date starting_city destination  duration  total_stops  \\\n",
       "0       IndiGo 2019-03-24      Banglore   New Delhi       2.0          0.0   \n",
       "1    Air India 2019-01-05       Kolkata    Banglore       7.0          2.0   \n",
       "2  Jet Airways 2019-09-06         Delhi      Cochin      19.0          2.0   \n",
       "3       IndiGo 2019-12-05       Kolkata    Banglore       5.0          1.0   \n",
       "4       IndiGo 2019-01-03      Banglore   New Delhi       4.0          1.0   \n",
       "\n",
       "   price  \n",
       "0   3898  \n",
       "1   7663  \n",
       "2  13883  \n",
       "3   6219  \n",
       "4  13303  "
      ]
     },
     "execution_count": 70,
     "metadata": {},
     "output_type": "execute_result"
    }
   ],
   "source": [
    "airfare.plot(x=''"
   ]
  },
  {
   "cell_type": "code",
   "execution_count": null,
   "id": "1a26cbd4-09d9-4d8b-b83d-d3823372765a",
   "metadata": {},
   "outputs": [],
   "source": []
  },
  {
   "cell_type": "markdown",
   "id": "e3afbb04-3bee-4c47-b4ba-d2bfc247492a",
   "metadata": {},
   "source": [
    "### Part 4 - Merge the data\n",
    "\n",
    "Now that you have a better feel for each of your two (or three, for the 7394 students) data sets, it is time to merge them. Describe your strategy for merging the data sets and then actually perform the merge.  \n",
    "\n",
    "Develop a strategy for verifying that the data is properly merged (hoping and finger-crossing are not valid strategies). "
   ]
  },
  {
   "cell_type": "code",
   "execution_count": null,
   "id": "6ccfb384-f695-4a49-a084-d373d45111f6",
   "metadata": {},
   "outputs": [],
   "source": []
  },
  {
   "cell_type": "markdown",
   "id": "3063ca2e-ec1b-4799-bc76-4a464fc82921",
   "metadata": {
    "tags": []
   },
   "source": [
    "### Part 5 - Explore Bivariate relationships\n",
    "\n",
    "- Choose a reasoned set of variables to explore further.  You don't have to explore all possible pairs of variables, nor do we want to grade that much.  Choose 7 - 9 variables. One should be a variable that you'd like to predict (target variable) using the others (predictor variables). \n",
    "- List your predictor variables\n",
    "- List your target variable\n",
    "- Briefly describe why you have chosen these. \n",
    "\n",
    "Use any of the available visualizations from Seaborn to explore the relationships between the variables. Explore the relationships among the predictor variables as well as the relationship between each predictor variable and the target variable.  Which of the predictor variables are most strongly related?  Are there any interesting relationships between categorical predictors and numeric predictors?  If there are any dichotomous variables, does that influence any of the relationships? Are the relationships positive or negative? \n",
    "\n",
    "Below each plot, you should provide a description and interpretation of the plot.  Make sure to include why the variables in that plot were chosen and what you hope the reader would gain from it as well. "
   ]
  },
  {
   "cell_type": "code",
   "execution_count": null,
   "id": "4058bb4e-b6a0-4d4f-b271-cd0ec29951ab",
   "metadata": {},
   "outputs": [],
   "source": []
  }
 ],
 "metadata": {
  "kernelspec": {
   "display_name": "Python 3 (ipykernel)",
   "language": "python",
   "name": "python3"
  },
  "language_info": {
   "codemirror_mode": {
    "name": "ipython",
    "version": 3
   },
   "file_extension": ".py",
   "mimetype": "text/x-python",
   "name": "python",
   "nbconvert_exporter": "python",
   "pygments_lexer": "ipython3",
   "version": "3.9.7"
  }
 },
 "nbformat": 4,
 "nbformat_minor": 5
}
