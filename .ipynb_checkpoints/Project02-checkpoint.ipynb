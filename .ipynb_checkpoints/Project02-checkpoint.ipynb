{
 "cells": [
  {
   "cell_type": "markdown",
   "id": "245918b3-be3c-4d1f-9a58-7f2a88d01183",
   "metadata": {},
   "source": [
    "# Project 2\n",
    "### CS 5/7394 - Applied Machine Learning\n",
    "\n",
    "- **Due** - March 11 @ 11:59 pm pushed to Github repo\n",
    "- **Teams** - You can do this project solo or in pairs.  Not 3, not 4 not 5... Max of 2. If a 5394 student pairs with a 7394 student, the pair needs to do the 7394 work. "
   ]
  },
  {
   "cell_type": "markdown",
   "id": "cae9b08f-7745-4dfb-8927-258f22423720",
   "metadata": {},
   "source": [
    "Below are 6 Kaggle Datasets.  You will choose 1 to work with for this project. \n",
    "\n",
    "- [Airfare Prediction Dataset](https://www.kaggle.com/zwartfreak/airline-fare-prediction)\n",
    "- [Chinese Rest Holiday Dataset](https://www.kaggle.com/holoong9291/chinese-rest-holiday-dataset-2020-to-2022)\n",
    "- [Jigsaw Toxic Comment Classification Challenge](https://www.kaggle.com/julian3833/jigsaw-toxic-comment-classification-challenge?select=train.csv)\n",
    "- [Latest Covid 19 Dataset Worldwide](https://www.kaggle.com/sandhyakrishnan02/latest-covid-19-dataset-worldwide)\n",
    "- [Trains](https://www.kaggle.com/vahidehdashti/machinelearningdatabase-trains?select=trains-original.data)\n",
    "- [Football Data top 5 Leagues](https://www.kaggle.com/sanjeetsinghnaik/football-data-top-5-leagues)\n",
    "\n",
    "Merging disparate datasets is a staple of the data exploration process.  Therefore, for which ever data set above that you choose, you will need to independently find **an additional** dataset to merge with your selection.  The only requirement is that it add to the richness of the original dataset. Students in the 7000-level version of the class need to find two additional data sets to merge with the original selection. \n",
    "\n",
    "_Note_: If you want to start with a different data set, you need to get Fontenot's OK first.  "
   ]
  },
  {
   "cell_type": "markdown",
   "id": "126330db-b29f-46d9-b16e-7811612a9e73",
   "metadata": {},
   "source": [
    "### Your Tasks\n",
    "\n",
    "Below, there are cells that provide directions on what to do for the project.  \n",
    "\n",
    "You can insert as many cells between the ones below as you'd like, but please **Do NOT** change the cells already provided. "
   ]
  },
  {
   "cell_type": "markdown",
   "id": "0f2ca87f-07eb-4792-b76e-15f2f01d1408",
   "metadata": {},
   "source": [
    "### Part 1 - Getting Started\n",
    "\n",
    "- Import libraries\n",
    "- Load original Data (which ever one you chose from the provided list) into a data frame. \n",
    "- Load your additional data set(s) into a data frame. \n",
    "- In a markdown cell, provide a brief description of your the data sets you've chosen to work with.  \n",
    "- Develop a list of 3 - 4 questions that you hope to be able to answer after the exploration of the data and write them in this section. "
   ]
  },
  {
   "cell_type": "code",
   "execution_count": 5,
   "id": "ef9b70f5-346e-47af-9d38-043de6663c0c",
   "metadata": {},
   "outputs": [],
   "source": [
    "import numpy as np\n",
    "import pandas as pd\n",
    "%matplotlib inline\n",
    "\n",
    "import scipy.stats as stats\n",
    "from sklearn import metrics\n",
    "from sklearn import preprocessing\n",
    "from sklearn import  linear_model\n",
    "from sklearn.model_selection import cross_val_score\n",
    "from sklearn.model_selection import train_test_split\n",
    "from sklearn.model_selection import cross_val_predict\n",
    "\n",
    "import matplotlib.pyplot as plt\n",
    "import seaborn as sn\n",
    "\n",
    "params = {'legend.fontsize': 'x-large',\n",
    "          'figure.figsize': (30, 10),\n",
    "          'axes.labelsize': 'x-large',\n",
    "          'axes.titlesize':'x-large',\n",
    "          'xtick.labelsize':'x-large',\n",
    "          'ytick.labelsize':'x-large'}\n",
    "\n",
    "sn.set_style('whitegrid')\n",
    "sn.set_context('talk')\n",
    "\n",
    "plt.rcParams.update(params)\n",
    "pd.options.display.max_colwidth = 600\n",
    "\n",
    "\n",
    "airfareTest = pd.read_csv('airfareTest.csv')\n",
    "airfareTrain = pd.read_csv('airfareTrain.csv')\n",
    "dieselPrices = pd.read_csv('diesel.csv')\n",
    "\n",
    "\n",
    "#Todo\n",
    "# Steps 3 and 4\n",
    "\n"
   ]
  },
  {
   "cell_type": "markdown",
   "id": "7dc8b1e5-3e29-4da6-8d36-0e7cf48a3e59",
   "metadata": {},
   "source": [
    "### Part 2 - Data Inspection\n",
    "\n",
    "Write some code to summarize the datasets.  Think about the following questions:\n",
    "- What type of data is each variable? (think like a data scientist here, not a computer scientist)\n",
    "- What is the total size of the data sets?\n",
    "- What time boundaries are there in the dataset?  IOW, what time frame do they span?\n",
    "- Are there any missing values in any of the variables? \n",
    "\n",
    "Do this with Intentionality.  Don't skimp. "
   ]
  },
  {
   "cell_type": "code",
   "execution_count": 6,
   "id": "f0fa82b1-9279-4756-a66c-273203bff3f4",
   "metadata": {},
   "outputs": [
    {
     "name": "stdout",
     "output_type": "stream",
     "text": [
      "Airfare Types\n",
      " Airline            object\n",
      "Date_of_Journey    object\n",
      "Source             object\n",
      "Destination        object\n",
      "Route              object\n",
      "Dep_Time           object\n",
      "Arrival_Time       object\n",
      "Duration           object\n",
      "Total_Stops        object\n",
      "Additional Info    object\n",
      "dtype: object \n",
      "\n",
      "Diesel Types\n",
      " city      object\n",
      "date      object\n",
      "rate     float64\n",
      "state     object\n",
      "dtype: object \n",
      "\n",
      "Shape of Airfare Test:   (2671, 10)\n",
      "Shape of Diesel Prices:  (17235, 4)\n"
     ]
    }
   ],
   "source": [
    "#What type of data is each variable?\n",
    "print(\"Airfare Types\\n\",airfareTest.dtypes,\"\\n\")\n",
    "print(\"Diesel Types\\n\",dieselPrices.dtypes,\"\\n\")\n",
    "\n",
    "#What is the total size of the data sets?\n",
    "print(\"Shape of Airfare Test:  \", airfareTest.shape)\n",
    "print(\"Shape of Diesel Prices: \",dieselPrices.shape)\n"
   ]
  },
  {
   "cell_type": "code",
   "execution_count": 7,
   "id": "1eb2c503-01d6-4b7c-8383-3f1f5d840e9b",
   "metadata": {},
   "outputs": [
    {
     "name": "stdout",
     "output_type": "stream",
     "text": [
      "0        6\n",
      "1       12\n",
      "2        5\n",
      "3        5\n",
      "4        6\n",
      "        ..\n",
      "2666     6\n",
      "2667     3\n",
      "2668     6\n",
      "2669     6\n",
      "2670     6\n",
      "Name: date, Length: 2671, dtype: int64\n",
      "0       10.0\n",
      "1        4.0\n",
      "2       23.0\n",
      "3       13.0\n",
      "4        2.0\n",
      "        ... \n",
      "2666    23.0\n",
      "2667     2.0\n",
      "2668     6.0\n",
      "2669    15.0\n",
      "2670    14.0\n",
      "Name: duration, Length: 2671, dtype: float64\n"
     ]
    }
   ],
   "source": [
    "#Standardiszing Attribute Names\n",
    "airfareTest.rename(columns={'Airline':'airline',\n",
    "                            'Date_of_Journey':'date',\n",
    "                            'Source':'starting_city',\n",
    "                            'Destination':'destination',\n",
    "                            'Route':'route',\n",
    "                            'Dep_Time':'depart_time',\n",
    "                            'Arrival_Time':'arrival_time',\n",
    "                            'Duration':'duration',\n",
    "                            'Total_Stops':'total_stops',\n",
    "                            'Additional Info':'misc'},inplace=True)\n",
    "\n",
    "#Typecasting Attributes\n",
    "    #AirFare\n",
    "airfareTest['date'] = pd.to_datetime(airfareTest.date).dt.\n",
    "airfareTest['duration'] = pd.to_timedelta(airfareTest.duration).astype('timedelta64[h]')\n",
    "#airfareTest['duration'] = pd.to_numeric(airfareTest.duration)\n",
    "\n",
    "print(airfareTest['date'])\n",
    "print(airfareTest['duration'])\n",
    "\n",
    "airfareTest['airline'] = airfareTest.airline.astype('category')\n",
    "airfareTest['starting_city'] = airfareTest.starting_city.astype('category')\n",
    "airfareTest['destination'] = airfareTest.destination.astype('category')\n",
    "airfareTest['route'] = airfareTest.route.astype('category')\n",
    "airfareTest['depart_time'] = airfareTest.depart_time.astype('category')\n",
    "airfareTest['arrival_time'] = airfareTest.arrival_time.astype('category')\n",
    "airfareTest['total_stops'] = airfareTest.total_stops.astype('category')\n",
    "airfareTest['misc'] = airfareTest.misc.astype('category')\n",
    "\n",
    "    #Diesel\n",
    "dieselPrices['date'] =  pd.to_datetime(dieselPrices.date)"
   ]
  },
  {
   "cell_type": "code",
   "execution_count": 18,
   "id": "555ae6b2-925a-4f8d-a084-06cc969336da",
   "metadata": {},
   "outputs": [
    {
     "name": "stdout",
     "output_type": "stream",
     "text": [
      "Airfare start date:  2019-01-03 00:00:00\n",
      "Airfare end date:    2019-12-06 00:00:00 \n",
      "\n",
      "DatetimeIndex(['2019-01-03', '2019-01-04', '2019-01-05', '2019-01-06',\n",
      "               '2019-01-07', '2019-01-08', '2019-01-09', '2019-01-10',\n",
      "               '2019-01-11', '2019-01-12',\n",
      "               ...\n",
      "               '2019-11-27', '2019-11-28', '2019-11-29', '2019-11-30',\n",
      "               '2019-12-01', '2019-12-02', '2019-12-03', '2019-12-04',\n",
      "               '2019-12-05', '2019-12-06'],\n",
      "              dtype='datetime64[ns]', length=338, freq='D')\n",
      "\n",
      "Diesel start date:  2002-06-16 00:00:00\n",
      "Diesel end date:    2020-12-31 00:00:00 \n",
      "\n",
      "DatetimeIndex(['2002-06-16', '2002-06-17', '2002-06-18', '2002-06-19',\n",
      "               '2002-06-20', '2002-06-21', '2002-06-22', '2002-06-23',\n",
      "               '2002-06-24', '2002-06-25',\n",
      "               ...\n",
      "               '2020-12-22', '2020-12-23', '2020-12-24', '2020-12-25',\n",
      "               '2020-12-26', '2020-12-27', '2020-12-28', '2020-12-29',\n",
      "               '2020-12-30', '2020-12-31'],\n",
      "              dtype='datetime64[ns]', length=6774, freq='D')\n"
     ]
    }
   ],
   "source": [
    "#What time boundaries are there in the dataset?  IOW, what time frame do they span?\n",
    "print(\"Airfare start date: \",airfareTest['date'].min())\n",
    "print(\"Airfare end date:   \",airfareTest['date'].max(),'\\n')\n",
    "print(pd.date_range(start=airfareTest['date'].min(), end=airfareTest['date'].max()))\n",
    "\n",
    "print(\"\\nDiesel start date: \",dieselPrices['date'].min())\n",
    "print(\"Diesel end date:   \",dieselPrices['date'].max(),'\\n')\n",
    "print(pd.date_range(start=dieselPrices['date'].min(), end=dieselPrices['date'].max()))"
   ]
  },
  {
   "cell_type": "code",
   "execution_count": 19,
   "id": "3436a0e6-97da-4c37-acd7-99c1c0b65332",
   "metadata": {},
   "outputs": [
    {
     "name": "stdout",
     "output_type": "stream",
     "text": [
      "=Airline Values=\n",
      "\n",
      "airline:\t\t False \n",
      "date:\t\t\t False \n",
      "starting_city:\t\t False \n",
      "destination:\t\t False \n",
      "route:\t\t\t False \n",
      "depart_time:\t\t False \n",
      "arrival_time:\t\t False \n",
      "duration:\t\t False \n",
      "total_stops:\t\t False   0 \n",
      "misc:\t\t\t False\n",
      "\n",
      "=Diesel Values=\n",
      "\n",
      "city:\t\t\t False \n",
      "date:\t\t\t False \n",
      "rate:\t\t\t False \n",
      "state:\t\t\t False\n"
     ]
    }
   ],
   "source": [
    "#Are there any missing values in any of the variables? \n",
    "print(\"=Airline Values=\\n\")\n",
    "print(\n",
    "    \"airline:\\t\\t\",           airfareTest.airline.isnull().values.any(),\n",
    "    \"\\ndate:\\t\\t\\t\",          airfareTest.date.isnull().values.any(),\n",
    "    \"\\nstarting_city:\\t\\t\",   airfareTest.starting_city.isnull().values.any(),\n",
    "    \"\\ndestination:\\t\\t\",     airfareTest.destination.isnull().values.any(),\n",
    "    \"\\nroute:\\t\\t\\t\",         airfareTest.route.isnull().values.any(),\n",
    "    \"\\ndepart_time:\\t\\t\",     airfareTest.depart_time.isnull().values.any(),\n",
    "    \"\\narrival_time:\\t\\t\",    airfareTest.arrival_time.isnull().values.any(),\n",
    "    \"\\nduration:\\t\\t\",        airfareTest.duration.isnull().values.any(),\n",
    "    \"\\ntotal_stops:\\t\\t\",     airfareTest.total_stops.isnull().values.any(), \" \", airfareTest.total_stops.isnull().sum(),\n",
    "    \"\\nmisc:\\t\\t\\t\",          airfareTest.misc.isnull().values.any(),\n",
    ")\n",
    "\n",
    "print(\"\\n=Diesel Values=\\n\")\n",
    "print(\n",
    "    \"city:\\t\\t\\t\",            dieselPrices.city.isnull().values.any(),\n",
    "    \"\\ndate:\\t\\t\\t\",          dieselPrices.date.isnull().values.any(),\n",
    "    \"\\nrate:\\t\\t\\t\",          dieselPrices.rate.isnull().values.any(),\n",
    "    \"\\nstate:\\t\\t\\t\",         dieselPrices.state.isnull().values.any(),\n",
    "\n",
    ")\n"
   ]
  },
  {
   "cell_type": "markdown",
   "id": "f816006c-868c-4863-b0b8-e56e8a1ec8f3",
   "metadata": {
    "tags": []
   },
   "source": [
    "### Part 3 - Data Description\n",
    "\n",
    "- Create a data description (data dictionary) for your data sets.\n",
    "    - Describe each variable\n",
    "    - If categorical, what levels are present? If the levels are encoded, what do the codes mean?\n",
    "    - If numeric, provide min, max, median and any other univariate stats you'd like to add in. \n",
    "- Where appropriate, provide histograms or other visualizations to characterize each variable. "
   ]
  },
  {
   "cell_type": "markdown",
   "id": "2d7b60a2-7a99-4d85-a685-3fc10a2bda9c",
   "metadata": {},
   "source": [
    "## Airline Fare Data Dictionarty\n",
    "\n",
    "[Categorical]\n",
    "- airline        : Name of airline carrier (Air India, IndiGo, Multiple Carriers, etc.)            \n",
    "- starting_city  : Starting city (Delhi, Kolkata, Banglore, etc.)                             \n",
    "- route          : Description of route between airports  (ex. BLR → BOM → DEL)\n",
    "- depart_time    : Time the plane departed                   \n",
    "- arrival_time   : Time the plane arrived at the destination \n",
    "- total_stops    : Total stops taken during the light        \n",
    "- misc           : Additional information about the flight   \n",
    "\n",
    "[Time]\n",
    "- date           : Data                                      [Datetime]\n",
    "- duration       : Total duration of the flight              [timedelta64]"
   ]
  },
  {
   "cell_type": "code",
   "execution_count": 20,
   "id": "8a908b06-0815-45da-8e56-9e419709d7b3",
   "metadata": {},
   "outputs": [
    {
     "name": "stdout",
     "output_type": "stream",
     "text": [
      "=Airline values=\n",
      " Jet Airways                          897\n",
      "IndiGo                               511\n",
      "Air India                            440\n",
      "Multiple carriers                    347\n",
      "SpiceJet                             208\n",
      "Vistara                              129\n",
      "Air Asia                              86\n",
      "GoAir                                 46\n",
      "Multiple carriers Premium economy      3\n",
      "Jet Airways Business                   2\n",
      "Vistara Premium economy                2\n",
      "Name: airline, dtype: int64\n",
      "\n",
      "=starting_city values=\n",
      " Delhi       1145\n",
      "Kolkata      710\n",
      "Banglore     555\n",
      "Mumbai       186\n",
      "Chennai       75\n",
      "Name: starting_city, dtype: int64\n",
      "\n",
      "=total_stops values=\n",
      " 1 stop      1431\n",
      "non-stop     849\n",
      "2 stops      379\n",
      "3 stops       11\n",
      "4 stops        1\n",
      "Name: total_stops, dtype: int64\n"
     ]
    }
   ],
   "source": [
    "print('=Airline values=\\n',airfareTest['airline'].value_counts())\n",
    "print('\\n=starting_city values=\\n',airfareTest['starting_city'].value_counts())\n",
    "print('\\n=total_stops values=\\n',airfareTest['total_stops'].value_counts())"
   ]
  },
  {
   "cell_type": "code",
   "execution_count": 21,
   "id": "4f944909-3497-4ed4-aeb8-72e880ae8d43",
   "metadata": {},
   "outputs": [
    {
     "name": "stdout",
     "output_type": "stream",
     "text": [
      "=Date=\n",
      "min:  2019-01-03 00:00:00 \n",
      "max: 2019-12-06 00:00:00 \n",
      "median:  2019-05-24 00:00:00\n",
      "\n",
      "=Duration=\n",
      "min:  0.0 \n",
      "max: 40.0 \n",
      "median:  8.0\n"
     ]
    }
   ],
   "source": [
    "print(\"=Date=\\nmin: \", airfareTest['date'].min() ,'\\nmax:', airfareTest['date'].max(), '\\nmedian: ', airfareTest['date'].median())\n",
    "print(\"\\n=Duration=\\nmin: \", airfareTest['duration'].min() ,'\\nmax:', airfareTest['duration'].max(), '\\nmedian: ', airfareTest['duration'].median())"
   ]
  },
  {
   "cell_type": "code",
   "execution_count": 22,
   "id": "300139a1-49b5-4750-9e2f-f3da584e9223",
   "metadata": {},
   "outputs": [
    {
     "data": {
      "text/plain": [
       "<AxesSubplot:xlabel='airline', ylabel='duration'>"
      ]
     },
     "execution_count": 22,
     "metadata": {},
     "output_type": "execute_result"
    },
    {
     "data": {
      "image/png": "[encoded data removed]",
      "text/plain": [
       "<Figure size 2160x720 with 1 Axes>"
      ]
     },
     "metadata": {},
     "output_type": "display_data"
    }
   ],
   "source": [
    "sn.boxplot(data=airfareTest[['airline','duration']], x=\"airline\", y=\"duration\")\n",
    "\n"
   ]
  },
  {
   "cell_type": "markdown",
   "id": "e3afbb04-3bee-4c47-b4ba-d2bfc247492a",
   "metadata": {},
   "source": [
    "### Part 4 - Merge the data\n",
    "\n",
    "Now that you have a better feel for each of your two (or three, for the 7394 students) data sets, it is time to merge them. Describe your strategy for merging the data sets and then actually perform the merge.  \n",
    "\n",
    "Develop a strategy for verifying that the data is properly merged (hoping and finger-crossing are not valid strategies). "
   ]
  },
  {
   "cell_type": "code",
   "execution_count": null,
   "id": "6ccfb384-f695-4a49-a084-d373d45111f6",
   "metadata": {},
   "outputs": [],
   "source": []
  },
  {
   "cell_type": "markdown",
   "id": "3063ca2e-ec1b-4799-bc76-4a464fc82921",
   "metadata": {
    "tags": []
   },
   "source": [
    "### Part 5 - Explore Bivariate relationships\n",
    "\n",
    "- Choose a reasoned set of variables to explore further.  You don't have to explore all possible pairs of variables, nor do we want to grade that much.  Choose 7 - 9 variables. One should be a variable that you'd like to predict (target variable) using the others (predictor variables). \n",
    "- List your predictor variables\n",
    "- List your target variable\n",
    "- Briefly describe why you have chosen these. \n",
    "\n",
    "Use any of the available visualizations from Seaborn to explore the relationships between the variables. Explore the relationships among the predictor variables as well as the relationship between each predictor variable and the target variable.  Which of the predictor variables are most strongly related?  Are there any interesting relationships between categorical predictors and numeric predictors?  If there are any dichotomous variables, does that influence any of the relationships? Are the relationships positive or negative? \n",
    "\n",
    "Below each plot, you should provide a description and interpretation of the plot.  Make sure to include why the variables in that plot were chosen and what you hope the reader would gain from it as well. "
   ]
  },
  {
   "cell_type": "code",
   "execution_count": null,
   "id": "4058bb4e-b6a0-4d4f-b271-cd0ec29951ab",
   "metadata": {},
   "outputs": [],
   "source": []
  }
 ],
 "metadata": {
  "kernelspec": {
   "display_name": "Python 3 (ipykernel)",
   "language": "python",
   "name": "python3"
  },
  "language_info": {
   "codemirror_mode": {
    "name": "ipython",
    "version": 3
   },
   "file_extension": ".py",
   "mimetype": "text/x-python",
   "name": "python",
   "nbconvert_exporter": "python",
   "pygments_lexer": "ipython3",
   "version": "3.9.7"
  }
 },
 "nbformat": 4,
 "nbformat_minor": 5
}
